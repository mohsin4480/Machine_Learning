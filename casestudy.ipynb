{
 "cells": [
  {
   "cell_type": "markdown",
   "metadata": {},
   "source": [
    "# Assignment:\n",
    "                Case Study\n",
    "## Submitted by:\n",
    "                M.Mohsin ur Rehman Khan\n",
    "## Submitted to:\n",
    "                Dr. Muhammad Ammar Tufail\n",
    "                email:mohsinrehman677@gmail.com\n",
    "                Ph # +923048827042\n",
    "                Mianwali,Punjab,Pakistan\n",
    "\n",
    "**Date:(04/08/2022)**"
   ]
  },
  {
   "cell_type": "markdown",
   "metadata": {},
   "source": [
    "# Flight Price Prediction Model\n",
    "## Instructions\n",
    "1. You will have dataset\n",
    "2. Find cheapest and expensive flight at a specific time\n",
    "3. You have to go through EDA\n",
    "4. ML model\n",
    "5. Find a sweet spot for cheap ticket\n",
    "\n",
    "\n",
    "* Ahmad is customer of sastaticket.pk.He is planning to fly from karachi to islamabad.\n",
    "* But he doesnt buy ticket now and he thinks that prices are too much high now and he must wait.\n",
    "* Can you tell ahmad he is making wrong decision with your analysis and a very confident prediction"
   ]
  },
  {
   "cell_type": "markdown",
   "metadata": {},
   "source": [
    "# 1.EDA(Exploratory Data Analysis)\n",
    "\n",
    " (We will extract info from our data)"
   ]
  },
  {
   "cell_type": "code",
   "execution_count": 2,
   "metadata": {},
   "outputs": [],
   "source": [
    "#Importing libraries\n",
    "import seaborn as sns\n",
    "import pandas as pd \n",
    "import numpy as np \n",
    "import scipy.stats\n",
    "import matplotlib.pyplot as plt"
   ]
  },
  {
   "cell_type": "code",
   "execution_count": null,
   "metadata": {},
   "outputs": [],
   "source": [
    "# reading testing data\n",
    "X_test=pd.read_csv(\"https://raw.githubusercontent.com/AammarTufail/machinelearning_ka_chilla/master/Sastaticket_datasets/sastaticket_test.csv\")"
   ]
  },
  {
   "cell_type": "code",
   "execution_count": null,
   "metadata": {},
   "outputs": [],
   "source": [
    "#head\n",
    "X_test.head()"
   ]
  },
  {
   "cell_type": "code",
   "execution_count": null,
   "metadata": {},
   "outputs": [],
   "source": [
    "# save it to csv file sample (250)\n",
    "X_test.to_csv(\"sastaticket_test.csv\")"
   ]
  },
  {
   "cell_type": "code",
   "execution_count": null,
   "metadata": {},
   "outputs": [],
   "source": [
    "# reading testing data sample(250)\n",
    "df_test=pd.read_csv(\"sastaticket_test.csv\")\n",
    "df_test.head()"
   ]
  },
  {
   "cell_type": "code",
   "execution_count": null,
   "metadata": {},
   "outputs": [],
   "source": [
    "# reading training dataset(sample) from github\n",
    "training_data=pd.read_csv(\"https://raw.githubusercontent.com/AammarTufail/machinelearning_ka_chilla/d4693bff19a9e9d47908b55218daa0b9a77a13c3/Sastaticket_datasets/sastaticket_train.csv\")"
   ]
  },
  {
   "cell_type": "code",
   "execution_count": null,
   "metadata": {},
   "outputs": [],
   "source": [
    "#head\n",
    "training_data.head(3)"
   ]
  },
  {
   "cell_type": "code",
   "execution_count": null,
   "metadata": {},
   "outputs": [],
   "source": [
    "# save to csv file\n",
    "training_data.to_csv(\"sastaticket_trainsample.csv\")"
   ]
  },
  {
   "cell_type": "code",
   "execution_count": 3,
   "metadata": {},
   "outputs": [],
   "source": [
    "#read\n",
    "df=pd.read_csv(\"sastaticket_trainsample.csv\")"
   ]
  },
  {
   "cell_type": "code",
   "execution_count": null,
   "metadata": {},
   "outputs": [],
   "source": [
    "#head\n",
    "df.head(2)"
   ]
  },
  {
   "cell_type": "code",
   "execution_count": null,
   "metadata": {},
   "outputs": [],
   "source": [
    "#shape\n",
    "df.shape"
   ]
  },
  {
   "cell_type": "code",
   "execution_count": null,
   "metadata": {},
   "outputs": [],
   "source": [
    "# info\n",
    "df.info()"
   ]
  },
  {
   "cell_type": "code",
   "execution_count": null,
   "metadata": {},
   "outputs": [],
   "source": [
    "#check null values\n",
    "#df.isnull().sum()\n",
    "df.notnull().sum()"
   ]
  },
  {
   "cell_type": "code",
   "execution_count": null,
   "metadata": {},
   "outputs": [],
   "source": [
    "#summary statistics\n",
    "df.describe()"
   ]
  },
  {
   "cell_type": "code",
   "execution_count": null,
   "metadata": {},
   "outputs": [],
   "source": [
    "#head\n",
    "df.head(3)"
   ]
  },
  {
   "cell_type": "code",
   "execution_count": 4,
   "metadata": {},
   "outputs": [],
   "source": [
    "# first we drop unnamed data\n",
    "df.drop([\"Unnamed: 0.3\",\"Unnamed: 0.2\",\"Unnamed: 0\",\"Unnamed: 0.1\"], axis=1, inplace=True)"
   ]
  },
  {
   "cell_type": "code",
   "execution_count": null,
   "metadata": {},
   "outputs": [],
   "source": [
    "#columns\n",
    "df.columns"
   ]
  },
  {
   "cell_type": "code",
   "execution_count": null,
   "metadata": {},
   "outputs": [],
   "source": [
    "df.nunique()"
   ]
  },
  {
   "cell_type": "code",
   "execution_count": null,
   "metadata": {},
   "outputs": [],
   "source": [
    "# separate categorical variables in a list\n",
    "cat_list=[\"f2\",\"f3\",\"f6\",\"f7\",\"f8\",\"f9\",\"f10\"]"
   ]
  },
  {
   "cell_type": "code",
   "execution_count": null,
   "metadata": {},
   "outputs": [],
   "source": [
    "# for loop to check unique values in each \n",
    "\n",
    "for i in cat_list:\n",
    "\n",
    "    print(i, df[i].unique())\n",
    "    print(\"..............................\")# separatorline"
   ]
  },
  {
   "cell_type": "code",
   "execution_count": 5,
   "metadata": {},
   "outputs": [],
   "source": [
    "# As we can see that f2 and f3 have no unique values and they will not effect the target.\n",
    "# f10 is flight no which also has no impact on target.\n",
    "# so it's better to drop f2,f3,f10\n",
    "\n",
    "df.drop([\"f2\",\"f3\",\"f10\"], axis=1, inplace=True)"
   ]
  },
  {
   "cell_type": "markdown",
   "metadata": {},
   "source": [
    "# Assignment#1\n",
    " If we replace axis from 1 to 0 it will give error of \"not found in axis\""
   ]
  },
  {
   "cell_type": "code",
   "execution_count": 6,
   "metadata": {},
   "outputs": [
    {
     "data": {
      "text/html": [
       "<div>\n",
       "<style scoped>\n",
       "    .dataframe tbody tr th:only-of-type {\n",
       "        vertical-align: middle;\n",
       "    }\n",
       "\n",
       "    .dataframe tbody tr th {\n",
       "        vertical-align: top;\n",
       "    }\n",
       "\n",
       "    .dataframe thead th {\n",
       "        text-align: right;\n",
       "    }\n",
       "</style>\n",
       "<table border=\"1\" class=\"dataframe\">\n",
       "  <thead>\n",
       "    <tr style=\"text-align: right;\">\n",
       "      <th></th>\n",
       "      <th>f1</th>\n",
       "      <th>f4</th>\n",
       "      <th>f5</th>\n",
       "      <th>f6</th>\n",
       "      <th>f7</th>\n",
       "      <th>f8</th>\n",
       "      <th>f9</th>\n",
       "      <th>target</th>\n",
       "    </tr>\n",
       "  </thead>\n",
       "  <tbody>\n",
       "    <tr>\n",
       "      <th>0</th>\n",
       "      <td>2021-01-08 12:43:27.828728+00:00</td>\n",
       "      <td>2021-01-23 05:00:00+00:00</td>\n",
       "      <td>2021-01-23 07:00:00+00:00</td>\n",
       "      <td>gamma</td>\n",
       "      <td>True</td>\n",
       "      <td>0.0</td>\n",
       "      <td>0</td>\n",
       "      <td>7400.0</td>\n",
       "    </tr>\n",
       "    <tr>\n",
       "      <th>1</th>\n",
       "      <td>2021-07-01 04:45:11.397541+00:00</td>\n",
       "      <td>2021-07-01 13:00:00+00:00</td>\n",
       "      <td>2021-07-01 15:00:00+00:00</td>\n",
       "      <td>alpha</td>\n",
       "      <td>True</td>\n",
       "      <td>35.0</td>\n",
       "      <td>1</td>\n",
       "      <td>15377.0</td>\n",
       "    </tr>\n",
       "    <tr>\n",
       "      <th>2</th>\n",
       "      <td>2021-06-24 11:28:47.565115+00:00</td>\n",
       "      <td>2021-07-29 14:00:00+00:00</td>\n",
       "      <td>2021-07-29 16:00:00+00:00</td>\n",
       "      <td>gamma</td>\n",
       "      <td>True</td>\n",
       "      <td>20.0</td>\n",
       "      <td>1</td>\n",
       "      <td>6900.0</td>\n",
       "    </tr>\n",
       "    <tr>\n",
       "      <th>3</th>\n",
       "      <td>2021-06-05 11:09:48.655927+00:00</td>\n",
       "      <td>2021-06-09 16:00:00+00:00</td>\n",
       "      <td>2021-06-09 18:00:00+00:00</td>\n",
       "      <td>alpha</td>\n",
       "      <td>True</td>\n",
       "      <td>15.0</td>\n",
       "      <td>1</td>\n",
       "      <td>9707.0</td>\n",
       "    </tr>\n",
       "    <tr>\n",
       "      <th>4</th>\n",
       "      <td>2021-07-29 09:53:51.065306+00:00</td>\n",
       "      <td>2021-08-23 05:00:00+00:00</td>\n",
       "      <td>2021-08-23 06:55:00+00:00</td>\n",
       "      <td>beta</td>\n",
       "      <td>True</td>\n",
       "      <td>20.0</td>\n",
       "      <td>0</td>\n",
       "      <td>6500.0</td>\n",
       "    </tr>\n",
       "  </tbody>\n",
       "</table>\n",
       "</div>"
      ],
      "text/plain": [
       "                                 f1                         f4  \\\n",
       "0  2021-01-08 12:43:27.828728+00:00  2021-01-23 05:00:00+00:00   \n",
       "1  2021-07-01 04:45:11.397541+00:00  2021-07-01 13:00:00+00:00   \n",
       "2  2021-06-24 11:28:47.565115+00:00  2021-07-29 14:00:00+00:00   \n",
       "3  2021-06-05 11:09:48.655927+00:00  2021-06-09 16:00:00+00:00   \n",
       "4  2021-07-29 09:53:51.065306+00:00  2021-08-23 05:00:00+00:00   \n",
       "\n",
       "                          f5     f6    f7    f8  f9   target  \n",
       "0  2021-01-23 07:00:00+00:00  gamma  True   0.0   0   7400.0  \n",
       "1  2021-07-01 15:00:00+00:00  alpha  True  35.0   1  15377.0  \n",
       "2  2021-07-29 16:00:00+00:00  gamma  True  20.0   1   6900.0  \n",
       "3  2021-06-09 18:00:00+00:00  alpha  True  15.0   1   9707.0  \n",
       "4  2021-08-23 06:55:00+00:00   beta  True  20.0   0   6500.0  "
      ]
     },
     "execution_count": 6,
     "metadata": {},
     "output_type": "execute_result"
    }
   ],
   "source": [
    "#head\n",
    "df.head()"
   ]
  },
  {
   "cell_type": "code",
   "execution_count": null,
   "metadata": {},
   "outputs": [],
   "source": [
    "# casting\n",
    "df.info()"
   ]
  },
  {
   "cell_type": "code",
   "execution_count": 7,
   "metadata": {},
   "outputs": [],
   "source": [
    "# as columns f1,f4,f5 shows date and time with dtype object\n",
    "# we convert dtype to datetime\n",
    "#for that import datetime library\n",
    "from datetime import date,time\n",
    "df[\"f1\"]=pd.to_datetime(df[\"f1\"])\n",
    "df[\"f4\"]=pd.to_datetime(df[\"f4\"])\n",
    "df[\"f5\"]=pd.to_datetime(df[\"f5\"])"
   ]
  },
  {
   "cell_type": "code",
   "execution_count": 8,
   "metadata": {},
   "outputs": [],
   "source": [
    "#importing date,timedelta\n",
    "from datetime import date,timedelta"
   ]
  },
  {
   "cell_type": "code",
   "execution_count": 9,
   "metadata": {},
   "outputs": [],
   "source": [
    "# add a new column(time_to_dparture) by subtracting f1 from f4\n",
    "\n",
    "df.insert(0,\"time_to_dep(s)\" , ((df['f4']-df['f1']).astype('timedelta64[s]')), True)\n",
    "\n",
    "# add a new column(travel_time) by subtracting f5 from f4\n",
    "\n",
    "df.insert(1, \"travel_time(s)\", ((df[\"f5\"]-df[\"f4\"]).astype(\"timedelta64[s]\")), True)"
   ]
  },
  {
   "cell_type": "code",
   "execution_count": null,
   "metadata": {},
   "outputs": [],
   "source": [
    "#check head\n",
    "df.head(3)"
   ]
  },
  {
   "cell_type": "code",
   "execution_count": null,
   "metadata": {},
   "outputs": [],
   "source": [
    "#uniqueness\n",
    "df.nunique()"
   ]
  },
  {
   "cell_type": "code",
   "execution_count": null,
   "metadata": {},
   "outputs": [],
   "source": [
    "#null values\n",
    "df.notnull().sum()"
   ]
  },
  {
   "cell_type": "code",
   "execution_count": null,
   "metadata": {},
   "outputs": [],
   "source": [
    "#separating variables\n",
    "cat_col=[\"f6\",\"f7\",\"f8\",\"f9\"]\n",
    "num_col=[\"time_to_dep(s)\",\"travel_time(s)\"]"
   ]
  },
  {
   "cell_type": "code",
   "execution_count": null,
   "metadata": {},
   "outputs": [],
   "source": [
    "# Plotting\n",
    "# take insights through categorical_columns by countplot\n",
    "c=1\n",
    "plt.figure(figsize=(20,45))\n",
    "for i in cat_col:\n",
    "\n",
    "    plt.subplot(6,3,c)\n",
    "    sns.countplot(df[i])\n",
    "    c=c+1"
   ]
  },
  {
   "cell_type": "code",
   "execution_count": null,
   "metadata": {},
   "outputs": [],
   "source": [
    "# Plotting\n",
    "# take insights through numerical_columns by disttplot\n",
    "c=1\n",
    "plt.figure(figsize=(20,45))\n",
    "for i in num_col:\n",
    "\n",
    "    plt.subplot(6,3,c)\n",
    "    sns.distplot(df[i])\n",
    "    c=c+1\n"
   ]
  },
  {
   "cell_type": "code",
   "execution_count": null,
   "metadata": {},
   "outputs": [],
   "source": [
    "# Plotting of target\n",
    "# 1.distplot\n",
    "sns.displot(df[\"target\"])\n"
   ]
  },
  {
   "cell_type": "markdown",
   "metadata": {},
   "source": [
    "# Assignment#2\n",
    "1.Remove outliers from dataset"
   ]
  },
  {
   "cell_type": "code",
   "execution_count": 10,
   "metadata": {},
   "outputs": [
    {
     "name": "stderr",
     "output_type": "stream",
     "text": [
      "C:\\Users\\mohsin.DESKTOP-7I5HD4K\\AppData\\Local\\Temp\\ipykernel_2396\\2468351618.py:3: DeprecationWarning: the `interpolation=` argument to percentile was renamed to `method=`, which has additional options.\n",
      "Users of the modes 'nearest', 'lower', 'higher', or 'midpoint' are encouraged to review the method they. (Deprecated NumPy 1.22)\n",
      "  Q1 = np.percentile(df['target'], 25,\n",
      "C:\\Users\\mohsin.DESKTOP-7I5HD4K\\AppData\\Local\\Temp\\ipykernel_2396\\2468351618.py:6: DeprecationWarning: the `interpolation=` argument to percentile was renamed to `method=`, which has additional options.\n",
      "Users of the modes 'nearest', 'lower', 'higher', or 'midpoint' are encouraged to review the method they. (Deprecated NumPy 1.22)\n",
      "  Q3 = np.percentile(df['target'], 75,\n"
     ]
    },
    {
     "name": "stdout",
     "output_type": "stream",
     "text": [
      "Old Shape:  (5000, 10)\n",
      "New Shape:  (4749, 10)\n"
     ]
    }
   ],
   "source": [
    "# Detection \n",
    "# IQR\n",
    "Q1 = np.percentile(df['target'], 25,\n",
    "                   interpolation = 'midpoint')\n",
    " \n",
    "Q3 = np.percentile(df['target'], 75,\n",
    "                   interpolation = 'midpoint')\n",
    "IQR = Q3 - Q1\n",
    " \n",
    "print(\"Old Shape: \", df.shape)\n",
    " \n",
    "# Upper bound\n",
    "upper = np.where(df['target'] >= (Q3+1.5*IQR))\n",
    "# Lower bound\n",
    "lower = np.where(df['target'] <= (Q1-1.5*IQR))\n",
    " \n",
    "''' Removing the Outliers '''\n",
    "df.drop(upper[0], inplace = True)\n",
    "df.drop(lower[0], inplace = True)\n",
    " \n",
    "print(\"New Shape: \", df.shape)"
   ]
  },
  {
   "cell_type": "code",
   "execution_count": null,
   "metadata": {},
   "outputs": [],
   "source": [
    "#shape\n",
    "df.shape"
   ]
  },
  {
   "cell_type": "code",
   "execution_count": null,
   "metadata": {},
   "outputs": [],
   "source": [
    "#Skewness and kurtosis\n",
    "df.skew()"
   ]
  },
  {
   "cell_type": "code",
   "execution_count": null,
   "metadata": {},
   "outputs": [],
   "source": [
    "#Kurtosis\n",
    "df.kurtosis()"
   ]
  },
  {
   "cell_type": "code",
   "execution_count": null,
   "metadata": {},
   "outputs": [],
   "source": [
    "df.head()"
   ]
  },
  {
   "cell_type": "code",
   "execution_count": 11,
   "metadata": {},
   "outputs": [],
   "source": [
    "# encoding\n",
    "\n",
    "df.drop([\"f1\",\"f4\",\"f5\"], axis=1, inplace=True)"
   ]
  },
  {
   "cell_type": "code",
   "execution_count": 12,
   "metadata": {},
   "outputs": [],
   "source": [
    "#encoding\n",
    "from sklearn.preprocessing import LabelEncoder\n",
    "le=LabelEncoder()"
   ]
  },
  {
   "cell_type": "code",
   "execution_count": 13,
   "metadata": {},
   "outputs": [],
   "source": [
    "# Apply label encoder\n",
    "df[\"f6\"]=le.fit_transform(df[\"f6\"])\n",
    "df[\"f7\"]=le.fit_transform(df[\"f7\"])\n",
    "df[\"f8\"]=le.fit_transform(df[\"f8\"])"
   ]
  },
  {
   "cell_type": "code",
   "execution_count": null,
   "metadata": {},
   "outputs": [],
   "source": [
    "#head\n",
    "df.head()"
   ]
  },
  {
   "cell_type": "code",
   "execution_count": 14,
   "metadata": {},
   "outputs": [],
   "source": [
    "df.to_csv(\"st_file.csv\")"
   ]
  },
  {
   "cell_type": "code",
   "execution_count": 16,
   "metadata": {},
   "outputs": [
    {
     "data": {
      "text/html": [
       "<div>\n",
       "<style scoped>\n",
       "    .dataframe tbody tr th:only-of-type {\n",
       "        vertical-align: middle;\n",
       "    }\n",
       "\n",
       "    .dataframe tbody tr th {\n",
       "        vertical-align: top;\n",
       "    }\n",
       "\n",
       "    .dataframe thead th {\n",
       "        text-align: right;\n",
       "    }\n",
       "</style>\n",
       "<table border=\"1\" class=\"dataframe\">\n",
       "  <thead>\n",
       "    <tr style=\"text-align: right;\">\n",
       "      <th></th>\n",
       "      <th>Unnamed: 0</th>\n",
       "      <th>time_to_dep(s)</th>\n",
       "      <th>travel_time(s)</th>\n",
       "      <th>f6</th>\n",
       "      <th>f7</th>\n",
       "      <th>f8</th>\n",
       "      <th>f9</th>\n",
       "      <th>target</th>\n",
       "    </tr>\n",
       "  </thead>\n",
       "  <tbody>\n",
       "    <tr>\n",
       "      <th>0</th>\n",
       "      <td>0</td>\n",
       "      <td>1268192.0</td>\n",
       "      <td>7200.0</td>\n",
       "      <td>2</td>\n",
       "      <td>1</td>\n",
       "      <td>0</td>\n",
       "      <td>0</td>\n",
       "      <td>7400.0</td>\n",
       "    </tr>\n",
       "    <tr>\n",
       "      <th>1</th>\n",
       "      <td>1</td>\n",
       "      <td>29688.0</td>\n",
       "      <td>7200.0</td>\n",
       "      <td>0</td>\n",
       "      <td>1</td>\n",
       "      <td>4</td>\n",
       "      <td>1</td>\n",
       "      <td>15377.0</td>\n",
       "    </tr>\n",
       "    <tr>\n",
       "      <th>2</th>\n",
       "      <td>2</td>\n",
       "      <td>3033072.0</td>\n",
       "      <td>7200.0</td>\n",
       "      <td>2</td>\n",
       "      <td>1</td>\n",
       "      <td>2</td>\n",
       "      <td>1</td>\n",
       "      <td>6900.0</td>\n",
       "    </tr>\n",
       "    <tr>\n",
       "      <th>3</th>\n",
       "      <td>3</td>\n",
       "      <td>363011.0</td>\n",
       "      <td>7200.0</td>\n",
       "      <td>0</td>\n",
       "      <td>1</td>\n",
       "      <td>1</td>\n",
       "      <td>1</td>\n",
       "      <td>9707.0</td>\n",
       "    </tr>\n",
       "    <tr>\n",
       "      <th>4</th>\n",
       "      <td>4</td>\n",
       "      <td>2142368.0</td>\n",
       "      <td>6900.0</td>\n",
       "      <td>1</td>\n",
       "      <td>1</td>\n",
       "      <td>2</td>\n",
       "      <td>0</td>\n",
       "      <td>6500.0</td>\n",
       "    </tr>\n",
       "  </tbody>\n",
       "</table>\n",
       "</div>"
      ],
      "text/plain": [
       "   Unnamed: 0  time_to_dep(s)  travel_time(s)  f6  f7  f8  f9   target\n",
       "0           0       1268192.0          7200.0   2   1   0   0   7400.0\n",
       "1           1         29688.0          7200.0   0   1   4   1  15377.0\n",
       "2           2       3033072.0          7200.0   2   1   2   1   6900.0\n",
       "3           3        363011.0          7200.0   0   1   1   1   9707.0\n",
       "4           4       2142368.0          6900.0   1   1   2   0   6500.0"
      ]
     },
     "execution_count": 16,
     "metadata": {},
     "output_type": "execute_result"
    }
   ],
   "source": [
    "df3=pd.read_csv(\"st_file.csv\")\n",
    "df3.head()"
   ]
  },
  {
   "cell_type": "code",
   "execution_count": 18,
   "metadata": {},
   "outputs": [
    {
     "name": "stdout",
     "output_type": "stream",
     "text": [
      "<class 'pandas.core.frame.DataFrame'>\n",
      "RangeIndex: 4749 entries, 0 to 4748\n",
      "Data columns (total 8 columns):\n",
      " #   Column          Non-Null Count  Dtype  \n",
      "---  ------          --------------  -----  \n",
      " 0   Unnamed: 0      4749 non-null   int64  \n",
      " 1   time_to_dep(s)  4749 non-null   float64\n",
      " 2   travel_time(s)  4749 non-null   float64\n",
      " 3   f6              4749 non-null   int64  \n",
      " 4   f7              4749 non-null   int64  \n",
      " 5   f8              4749 non-null   int64  \n",
      " 6   f9              4749 non-null   int64  \n",
      " 7   target          4749 non-null   float64\n",
      "dtypes: float64(3), int64(5)\n",
      "memory usage: 296.9 KB\n"
     ]
    }
   ],
   "source": [
    "df3.info()"
   ]
  },
  {
   "cell_type": "code",
   "execution_count": 19,
   "metadata": {},
   "outputs": [],
   "source": [
    "df3[\"time_to_dep(s)\"]=df3[\"time_to_dep(s)\"].astype(\"int64\")\n",
    "df3[\"travel_time(s)\"]=df3[\"travel_time(s)\"].astype(\"int64\")\n",
    "df3[\"target\"]=df3[\"target\"].astype(\"int64\")"
   ]
  },
  {
   "cell_type": "code",
   "execution_count": 20,
   "metadata": {},
   "outputs": [
    {
     "data": {
      "text/html": [
       "<div>\n",
       "<style scoped>\n",
       "    .dataframe tbody tr th:only-of-type {\n",
       "        vertical-align: middle;\n",
       "    }\n",
       "\n",
       "    .dataframe tbody tr th {\n",
       "        vertical-align: top;\n",
       "    }\n",
       "\n",
       "    .dataframe thead th {\n",
       "        text-align: right;\n",
       "    }\n",
       "</style>\n",
       "<table border=\"1\" class=\"dataframe\">\n",
       "  <thead>\n",
       "    <tr style=\"text-align: right;\">\n",
       "      <th></th>\n",
       "      <th>Unnamed: 0</th>\n",
       "      <th>time_to_dep(s)</th>\n",
       "      <th>travel_time(s)</th>\n",
       "      <th>f6</th>\n",
       "      <th>f7</th>\n",
       "      <th>f8</th>\n",
       "      <th>f9</th>\n",
       "      <th>target</th>\n",
       "    </tr>\n",
       "  </thead>\n",
       "  <tbody>\n",
       "    <tr>\n",
       "      <th>0</th>\n",
       "      <td>0</td>\n",
       "      <td>1268192</td>\n",
       "      <td>7200</td>\n",
       "      <td>2</td>\n",
       "      <td>1</td>\n",
       "      <td>0</td>\n",
       "      <td>0</td>\n",
       "      <td>7400</td>\n",
       "    </tr>\n",
       "    <tr>\n",
       "      <th>1</th>\n",
       "      <td>1</td>\n",
       "      <td>29688</td>\n",
       "      <td>7200</td>\n",
       "      <td>0</td>\n",
       "      <td>1</td>\n",
       "      <td>4</td>\n",
       "      <td>1</td>\n",
       "      <td>15377</td>\n",
       "    </tr>\n",
       "    <tr>\n",
       "      <th>2</th>\n",
       "      <td>2</td>\n",
       "      <td>3033072</td>\n",
       "      <td>7200</td>\n",
       "      <td>2</td>\n",
       "      <td>1</td>\n",
       "      <td>2</td>\n",
       "      <td>1</td>\n",
       "      <td>6900</td>\n",
       "    </tr>\n",
       "    <tr>\n",
       "      <th>3</th>\n",
       "      <td>3</td>\n",
       "      <td>363011</td>\n",
       "      <td>7200</td>\n",
       "      <td>0</td>\n",
       "      <td>1</td>\n",
       "      <td>1</td>\n",
       "      <td>1</td>\n",
       "      <td>9707</td>\n",
       "    </tr>\n",
       "    <tr>\n",
       "      <th>4</th>\n",
       "      <td>4</td>\n",
       "      <td>2142368</td>\n",
       "      <td>6900</td>\n",
       "      <td>1</td>\n",
       "      <td>1</td>\n",
       "      <td>2</td>\n",
       "      <td>0</td>\n",
       "      <td>6500</td>\n",
       "    </tr>\n",
       "  </tbody>\n",
       "</table>\n",
       "</div>"
      ],
      "text/plain": [
       "   Unnamed: 0  time_to_dep(s)  travel_time(s)  f6  f7  f8  f9  target\n",
       "0           0         1268192            7200   2   1   0   0    7400\n",
       "1           1           29688            7200   0   1   4   1   15377\n",
       "2           2         3033072            7200   2   1   2   1    6900\n",
       "3           3          363011            7200   0   1   1   1    9707\n",
       "4           4         2142368            6900   1   1   2   0    6500"
      ]
     },
     "execution_count": 20,
     "metadata": {},
     "output_type": "execute_result"
    }
   ],
   "source": [
    "df3.head()"
   ]
  },
  {
   "cell_type": "code",
   "execution_count": 21,
   "metadata": {},
   "outputs": [],
   "source": [
    "df3.to_csv(\"st3.file.csv\")"
   ]
  },
  {
   "cell_type": "code",
   "execution_count": null,
   "metadata": {},
   "outputs": [],
   "source": [
    "##Shapiro test to check normality\n",
    "from scipy.stats import shapiro\n",
    "stat,p=shapiro(df[\"f9\"])\n",
    "print(\"stat=\",stat)\n",
    "print(\"p=\",p)\n",
    "\n",
    "if  p > 0.05: \n",
    "    print(\"data is normal\")\n",
    "else:\n",
    "    print(\"data is not normal\") "
   ]
  },
  {
   "cell_type": "markdown",
   "metadata": {},
   "source": [
    "# Assignment#3"
   ]
  },
  {
   "cell_type": "code",
   "execution_count": null,
   "metadata": {},
   "outputs": [],
   "source": [
    "# #As data is not normal go for scaling\n",
    "# from sklearn.preprocessing import StandardScaler\n",
    "# sc=StandardScaler()\n",
    "# df[[\"time_to_dep(s)\"]]=sc.fit_transform(df[[\"time_to_dep(s)\"]])\n",
    "# df[[\"travel_time(s)\"]]=sc.fit_transform(df[[\"travel_time(s)\"]])\n",
    "# df[[\"target\"]]=sc.fit_transform(df[[\"target\"]])"
   ]
  },
  {
   "cell_type": "markdown",
   "metadata": {},
   "source": [
    "### If we apply scaling it will give values in minus"
   ]
  },
  {
   "cell_type": "code",
   "execution_count": null,
   "metadata": {},
   "outputs": [],
   "source": [
    "#head\n",
    "df.head()"
   ]
  },
  {
   "cell_type": "code",
   "execution_count": null,
   "metadata": {},
   "outputs": [],
   "source": [
    "#again normality\n",
    "stat,p=shapiro(df[\"travel_time(s)\"])\n",
    "print(\"stat=\",stat)\n",
    "print(\"p=\",p)\n",
    "\n",
    "if  p > 0.05: \n",
    "    print(\"data is normal\")\n",
    "else:\n",
    "    print(\"data is not normal\") "
   ]
  },
  {
   "cell_type": "code",
   "execution_count": null,
   "metadata": {},
   "outputs": [],
   "source": [
    "#columns\n",
    "df.columns"
   ]
  },
  {
   "cell_type": "code",
   "execution_count": null,
   "metadata": {},
   "outputs": [],
   "source": [
    "# split into X,y\n",
    "X=df[['time_to_dep(s)','travel_time(s)', 'f6', 'f7', 'f8', 'f9']]\n",
    "y=df['target']"
   ]
  },
  {
   "cell_type": "markdown",
   "metadata": {},
   "source": [
    "# ML Modelling"
   ]
  },
  {
   "cell_type": "code",
   "execution_count": null,
   "metadata": {},
   "outputs": [],
   "source": [
    "# Because our target(y) is numerical variable so we choose regression model/pipeline\n",
    "from sklearn.linear_model import LinearRegression\n",
    "from sklearn.tree import DecisionTreeRegressor\n",
    "from sklearn.svm import SVR\n",
    "from sklearn.neighbors import KNeighborsRegressor\n",
    "from sklearn.model_selection import train_test_split\n",
    "from sklearn.metrics import r2_score,mean_absolute_error,mean_squared_error\n",
    "\n",
    "\n",
    "#rootmeansquarederror\n",
    "# (rms)=mean_squared_error(y_test,y_pred, squared=False)"
   ]
  },
  {
   "cell_type": "markdown",
   "metadata": {},
   "source": [
    "## metrics for regression\n",
    "r2_score,mean_absolute_error,mean_squared_error\n",
    "## metrics for classification\n",
    "   F1,Recall score,precision score"
   ]
  },
  {
   "cell_type": "code",
   "execution_count": null,
   "metadata": {},
   "outputs": [],
   "source": [
    "# shortening the model names\n",
    "lr=LinearRegression()\n",
    "dt=DecisionTreeRegressor()\n",
    "svr=SVR()\n",
    "knn=KNeighborsRegressor()"
   ]
  },
  {
   "cell_type": "code",
   "execution_count": null,
   "metadata": {},
   "outputs": [],
   "source": [
    "# model loop\n",
    "X_train,X_test,y_train,y_test=train_test_split(X,y,test_size=0.2,random_state=42)\n",
    "\n",
    "for i in [lr,dt,svr,knn]: #read all model\n",
    "    i.fit(X_train,y_train) #fitting our model\n",
    "    pred=i.predict(X_test)  #predict\n",
    "    test_score=r2_score(y_test,pred) #test score\n",
    "    train_score=r2_score(y_train,i.predict(X_train)) #train score\n",
    "    if abs(train_score-test_score) <=0.1:\n",
    "        print(i)\n",
    "        print(\"R2 score is:\",r2_score(y_test,pred))\n",
    "        print(\"Mean absolute error is:\",mean_absolute_error(y_test,pred))\n",
    "        print(\"Mean squared error is:\",mean_squared_error(y_test,pred))\n",
    "        print(\"RMSE is:\",mean_squared_error(y_test,pred))\n",
    "        print(\"----------------------------------------\")\n",
    "#to save prediction\n",
    "res=pd.DataFrame(pred)\n",
    "res.index=X_test.index # its important for comparison\n",
    "res.columns=[\"prediction\"]\n",
    "res.to_csv(\"prediction_results_with_traintestsplit.csv\")       "
   ]
  },
  {
   "cell_type": "markdown",
   "metadata": {},
   "source": [
    "# Assignment#4\n",
    "## Now apply all modification steps df_test"
   ]
  },
  {
   "cell_type": "code",
   "execution_count": null,
   "metadata": {},
   "outputs": [],
   "source": [
    "# as columns f1,f4,f5 shows date and time with dtype object\n",
    "# we convert dtype to datetime\n",
    "#for that import datetime library\n",
    "from datetime import date,time\n",
    "df_test[\"f1\"]=pd.to_datetime(df_test[\"f1\"])\n",
    "df_test[\"f4\"]=pd.to_datetime(df_test[\"f4\"])\n",
    "df_test[\"f5\"]=pd.to_datetime(df_test[\"f5\"])"
   ]
  },
  {
   "cell_type": "code",
   "execution_count": null,
   "metadata": {},
   "outputs": [],
   "source": [
    "# add a new column(time_to_dparture) by subtracting f1 from f4\n",
    "\n",
    "df_test.insert(0,\"time_to_dep(s)\" , ((df_test['f4']-df_test['f1']).astype('timedelta64[s]')), True)\n",
    "\n",
    "# add a new column(travel_time) by subtracting f5 from f4\n",
    "\n",
    "df_test.insert(1, \"travel_time(s)\", ((df_test[\"f5\"]-df_test[\"f4\"]).astype(\"timedelta64[s]\")), True)"
   ]
  },
  {
   "cell_type": "code",
   "execution_count": null,
   "metadata": {},
   "outputs": [],
   "source": [
    "#encoding\n",
    "from sklearn.preprocessing import LabelEncoder\n",
    "le=LabelEncoder()"
   ]
  },
  {
   "cell_type": "code",
   "execution_count": null,
   "metadata": {},
   "outputs": [],
   "source": [
    "# Apply label encoder\n",
    "df_test[\"f6\"]=le.fit_transform(df_test[\"f6\"])\n",
    "df_test[\"f7\"]=le.fit_transform(df_test[\"f7\"])\n",
    "df_test[\"f8\"]=le.fit_transform(df_test[\"f8\"])"
   ]
  },
  {
   "cell_type": "code",
   "execution_count": null,
   "metadata": {},
   "outputs": [],
   "source": [
    "#dropping unnecessaary columns\n",
    "df_test.drop([\"Unnamed: 0\",\"Unnamed: 0.1\",\"f1\",\"f2\",\"f3\",\"f4\",\"f5\",\"f10\"], axis=1,inplace=True)"
   ]
  },
  {
   "cell_type": "code",
   "execution_count": null,
   "metadata": {},
   "outputs": [],
   "source": [
    "#shape\n",
    "df_test.shape"
   ]
  },
  {
   "cell_type": "code",
   "execution_count": null,
   "metadata": {},
   "outputs": [],
   "source": [
    "#head\n",
    "df_test.head(2)"
   ]
  },
  {
   "cell_type": "code",
   "execution_count": null,
   "metadata": {},
   "outputs": [],
   "source": [
    "df.head(2)"
   ]
  },
  {
   "cell_type": "code",
   "execution_count": null,
   "metadata": {},
   "outputs": [],
   "source": [
    "#final data prediction\n",
    "lr=LinearRegression().fit(X,y)\n",
    "pred=lr.predict(df_test)\n",
    "res=pd.DataFrame(pred)\n",
    "res.index=df_test.index # its important for comparison\n",
    "res.columns=[\"prediction\"]\n",
    "res.to_csv(\"prediction_results_with_traintestsplit2.csv\")  "
   ]
  },
  {
   "cell_type": "code",
   "execution_count": null,
   "metadata": {},
   "outputs": [],
   "source": [
    "#head\n",
    "df_test.head(2)"
   ]
  },
  {
   "cell_type": "code",
   "execution_count": null,
   "metadata": {},
   "outputs": [],
   "source": [
    "#predicted value\n",
    "pred1=lr.predict([[420706.0,7200.0,3,0,1,1]])\n",
    "pred1"
   ]
  }
 ],
 "metadata": {
  "interpreter": {
   "hash": "80f0110f7c3cd486b9440f1bec1e1bdcec7b5440deadf4b7939e76817772aea9"
  },
  "kernelspec": {
   "display_name": "Python 3.10.3 64-bit",
   "language": "python",
   "name": "python3"
  },
  "language_info": {
   "codemirror_mode": {
    "name": "ipython",
    "version": 3
   },
   "file_extension": ".py",
   "mimetype": "text/x-python",
   "name": "python",
   "nbconvert_exporter": "python",
   "pygments_lexer": "ipython3",
   "version": "3.10.3"
  },
  "orig_nbformat": 4
 },
 "nbformat": 4,
 "nbformat_minor": 2
}
